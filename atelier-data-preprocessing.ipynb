{
 "cells": [
  {
   "cell_type": "markdown",
   "id": "e01b1f0d",
   "metadata": {},
   "source": [
    "# Data Preprocessing"
   ]
  },
  {
   "cell_type": "markdown",
   "id": "decaa5a8",
   "metadata": {},
   "source": [
    "## Dataset : Wine Quality\n",
    "\n",
    "### Description\n",
    "\n",
    "The dataset contains different chemical information about wine. It has 4898 instances with 14 variables each. The dataset is good for classification and regression tasks. The model can be used to predict wine quality."
   ]
  },
  {
   "cell_type": "code",
   "execution_count": 2,
   "id": "54734b71",
   "metadata": {},
   "outputs": [],
   "source": [
    "# Import packages\n",
    "import matplotlib.pyplot as plt\n",
    "import numpy as np\n",
    "import pandas as pd"
   ]
  },
  {
   "cell_type": "code",
   "execution_count": 40,
   "id": "ed0bad7c",
   "metadata": {},
   "outputs": [
    {
     "data": {
      "text/html": [
       "<div>\n",
       "<style scoped>\n",
       "    .dataframe tbody tr th:only-of-type {\n",
       "        vertical-align: middle;\n",
       "    }\n",
       "\n",
       "    .dataframe tbody tr th {\n",
       "        vertical-align: top;\n",
       "    }\n",
       "\n",
       "    .dataframe thead th {\n",
       "        text-align: right;\n",
       "    }\n",
       "</style>\n",
       "<table border=\"1\" class=\"dataframe\">\n",
       "  <thead>\n",
       "    <tr style=\"text-align: right;\">\n",
       "      <th></th>\n",
       "      <th>fixed acidity</th>\n",
       "      <th>volatile acidity</th>\n",
       "      <th>citric acid</th>\n",
       "      <th>residual sugar</th>\n",
       "      <th>chlorides</th>\n",
       "      <th>free sulfur dioxide</th>\n",
       "      <th>total sulfur dioxide</th>\n",
       "      <th>density</th>\n",
       "      <th>pH</th>\n",
       "      <th>sulphates</th>\n",
       "      <th>alcohol</th>\n",
       "      <th>quality</th>\n",
       "    </tr>\n",
       "  </thead>\n",
       "  <tbody>\n",
       "    <tr>\n",
       "      <th>0</th>\n",
       "      <td>7.0</td>\n",
       "      <td>0.27</td>\n",
       "      <td>0.36</td>\n",
       "      <td>20.7</td>\n",
       "      <td>0.045</td>\n",
       "      <td>45.0</td>\n",
       "      <td>NaN</td>\n",
       "      <td>1.0010</td>\n",
       "      <td>3.00</td>\n",
       "      <td>0.45</td>\n",
       "      <td>8.8</td>\n",
       "      <td>6.0</td>\n",
       "    </tr>\n",
       "    <tr>\n",
       "      <th>1</th>\n",
       "      <td>6.3</td>\n",
       "      <td>0.30</td>\n",
       "      <td>0.34</td>\n",
       "      <td>1.6</td>\n",
       "      <td>0.049</td>\n",
       "      <td>14.0</td>\n",
       "      <td>132.0</td>\n",
       "      <td>0.9940</td>\n",
       "      <td>3.30</td>\n",
       "      <td>0.49</td>\n",
       "      <td>9.5</td>\n",
       "      <td>6.0</td>\n",
       "    </tr>\n",
       "    <tr>\n",
       "      <th>2</th>\n",
       "      <td>8.1</td>\n",
       "      <td>0.28</td>\n",
       "      <td>0.40</td>\n",
       "      <td>6.9</td>\n",
       "      <td>0.050</td>\n",
       "      <td>30.0</td>\n",
       "      <td>97.0</td>\n",
       "      <td>0.9951</td>\n",
       "      <td>3.26</td>\n",
       "      <td>0.44</td>\n",
       "      <td>10.1</td>\n",
       "      <td>6.0</td>\n",
       "    </tr>\n",
       "    <tr>\n",
       "      <th>3</th>\n",
       "      <td>7.2</td>\n",
       "      <td>0.23</td>\n",
       "      <td>0.32</td>\n",
       "      <td>8.5</td>\n",
       "      <td>0.058</td>\n",
       "      <td>47.0</td>\n",
       "      <td>186.0</td>\n",
       "      <td>0.9956</td>\n",
       "      <td>3.19</td>\n",
       "      <td>0.40</td>\n",
       "      <td>9.9</td>\n",
       "      <td>6.0</td>\n",
       "    </tr>\n",
       "    <tr>\n",
       "      <th>4</th>\n",
       "      <td>7.2</td>\n",
       "      <td>0.23</td>\n",
       "      <td>0.32</td>\n",
       "      <td>8.5</td>\n",
       "      <td>0.058</td>\n",
       "      <td>47.0</td>\n",
       "      <td>186.0</td>\n",
       "      <td>0.9956</td>\n",
       "      <td>3.19</td>\n",
       "      <td>0.40</td>\n",
       "      <td>9.9</td>\n",
       "      <td>6.0</td>\n",
       "    </tr>\n",
       "    <tr>\n",
       "      <th>...</th>\n",
       "      <td>...</td>\n",
       "      <td>...</td>\n",
       "      <td>...</td>\n",
       "      <td>...</td>\n",
       "      <td>...</td>\n",
       "      <td>...</td>\n",
       "      <td>...</td>\n",
       "      <td>...</td>\n",
       "      <td>...</td>\n",
       "      <td>...</td>\n",
       "      <td>...</td>\n",
       "      <td>...</td>\n",
       "    </tr>\n",
       "    <tr>\n",
       "      <th>863</th>\n",
       "      <td>6.2</td>\n",
       "      <td>0.28</td>\n",
       "      <td>0.33</td>\n",
       "      <td>1.7</td>\n",
       "      <td>0.029</td>\n",
       "      <td>24.0</td>\n",
       "      <td>111.0</td>\n",
       "      <td>0.9900</td>\n",
       "      <td>3.24</td>\n",
       "      <td>0.50</td>\n",
       "      <td>12.1</td>\n",
       "      <td>6.0</td>\n",
       "    </tr>\n",
       "    <tr>\n",
       "      <th>864</th>\n",
       "      <td>4.8</td>\n",
       "      <td>0.33</td>\n",
       "      <td>0.00</td>\n",
       "      <td>6.5</td>\n",
       "      <td>0.028</td>\n",
       "      <td>34.0</td>\n",
       "      <td>163.0</td>\n",
       "      <td>0.9937</td>\n",
       "      <td>3.35</td>\n",
       "      <td>0.61</td>\n",
       "      <td>9.9</td>\n",
       "      <td>5.0</td>\n",
       "    </tr>\n",
       "    <tr>\n",
       "      <th>865</th>\n",
       "      <td>6.1</td>\n",
       "      <td>0.27</td>\n",
       "      <td>0.33</td>\n",
       "      <td>2.2</td>\n",
       "      <td>0.021</td>\n",
       "      <td>26.0</td>\n",
       "      <td>117.0</td>\n",
       "      <td>0.9886</td>\n",
       "      <td>3.12</td>\n",
       "      <td>0.30</td>\n",
       "      <td>12.5</td>\n",
       "      <td>6.0</td>\n",
       "    </tr>\n",
       "    <tr>\n",
       "      <th>866</th>\n",
       "      <td>6.9</td>\n",
       "      <td>0.18</td>\n",
       "      <td>0.36</td>\n",
       "      <td>1.3</td>\n",
       "      <td>0.036</td>\n",
       "      <td>NaN</td>\n",
       "      <td>NaN</td>\n",
       "      <td>0.9934</td>\n",
       "      <td>3.27</td>\n",
       "      <td>0.95</td>\n",
       "      <td>9.5</td>\n",
       "      <td>7.0</td>\n",
       "    </tr>\n",
       "    <tr>\n",
       "      <th>867</th>\n",
       "      <td>7.8</td>\n",
       "      <td>0.18</td>\n",
       "      <td>0.46</td>\n",
       "      <td>12.6</td>\n",
       "      <td>0.042</td>\n",
       "      <td>41.0</td>\n",
       "      <td>143.0</td>\n",
       "      <td>1.0000</td>\n",
       "      <td>3.24</td>\n",
       "      <td>0.76</td>\n",
       "      <td>8.5</td>\n",
       "      <td>8.0</td>\n",
       "    </tr>\n",
       "  </tbody>\n",
       "</table>\n",
       "<p>868 rows × 12 columns</p>\n",
       "</div>"
      ],
      "text/plain": [
       "     fixed acidity  volatile acidity  citric acid  residual sugar  chlorides  \\\n",
       "0              7.0              0.27         0.36            20.7      0.045   \n",
       "1              6.3              0.30         0.34             1.6      0.049   \n",
       "2              8.1              0.28         0.40             6.9      0.050   \n",
       "3              7.2              0.23         0.32             8.5      0.058   \n",
       "4              7.2              0.23         0.32             8.5      0.058   \n",
       "..             ...               ...          ...             ...        ...   \n",
       "863            6.2              0.28         0.33             1.7      0.029   \n",
       "864            4.8              0.33         0.00             6.5      0.028   \n",
       "865            6.1              0.27         0.33             2.2      0.021   \n",
       "866            6.9              0.18         0.36             1.3      0.036   \n",
       "867            7.8              0.18         0.46            12.6      0.042   \n",
       "\n",
       "     free sulfur dioxide  total sulfur dioxide  density    pH  sulphates  \\\n",
       "0                   45.0                   NaN   1.0010  3.00       0.45   \n",
       "1                   14.0                 132.0   0.9940  3.30       0.49   \n",
       "2                   30.0                  97.0   0.9951  3.26       0.44   \n",
       "3                   47.0                 186.0   0.9956  3.19       0.40   \n",
       "4                   47.0                 186.0   0.9956  3.19       0.40   \n",
       "..                   ...                   ...      ...   ...        ...   \n",
       "863                 24.0                 111.0   0.9900  3.24       0.50   \n",
       "864                 34.0                 163.0   0.9937  3.35       0.61   \n",
       "865                 26.0                 117.0   0.9886  3.12       0.30   \n",
       "866                  NaN                   NaN   0.9934  3.27       0.95   \n",
       "867                 41.0                 143.0   1.0000  3.24       0.76   \n",
       "\n",
       "     alcohol  quality  \n",
       "0        8.8      6.0  \n",
       "1        9.5      6.0  \n",
       "2       10.1      6.0  \n",
       "3        9.9      6.0  \n",
       "4        9.9      6.0  \n",
       "..       ...      ...  \n",
       "863     12.1      6.0  \n",
       "864      9.9      5.0  \n",
       "865     12.5      6.0  \n",
       "866      9.5      7.0  \n",
       "867      8.5      8.0  \n",
       "\n",
       "[868 rows x 12 columns]"
      ]
     },
     "execution_count": 40,
     "metadata": {},
     "output_type": "execute_result"
    }
   ],
   "source": [
    "# présentation de la dataset\n",
    "wine_white = pd.read_csv(\"./data/winequality-white.csv\",sep=\";\")\n",
    "# x = wine_white[\"free sulfur dioxide\"]\n",
    "# plt.plot(x)\n",
    "wine_white"
   ]
  },
  {
   "cell_type": "markdown",
   "id": "dab09068",
   "metadata": {},
   "source": [
    "## Data cleaning\n",
    "\n",
    "Data cleaning routines work to **clean** the data by filling in missing values, smoothing noisy data, identifying or removing outliers, and resolving inconsistencies\n",
    "\n",
    "### Missing data\n",
    "\n",
    "Occur when no data value is stored for a variable in anobservation. Missing data are a common occurrence and can have a significant effect on the conclusions that can be drawn from the data"
   ]
  },
  {
   "cell_type": "code",
   "execution_count": 46,
   "id": "5cade7f0",
   "metadata": {},
   "outputs": [
    {
     "data": {
      "text/plain": [
       "fixed acidity           0\n",
       "volatile acidity        0\n",
       "citric acid             0\n",
       "residual sugar          0\n",
       "chlorides               0\n",
       "free sulfur dioxide     0\n",
       "total sulfur dioxide    0\n",
       "density                 0\n",
       "pH                      0\n",
       "sulphates               0\n",
       "alcohol                 0\n",
       "quality                 0\n",
       "dtype: int64"
      ]
     },
     "execution_count": 46,
     "metadata": {},
     "output_type": "execute_result"
    }
   ],
   "source": [
    "# code\n",
    "# Imputation technique with mean\n",
    "wine_white = wine_white.fillna(wine_white.mean())\n",
    "wine_white.isnull().sum()"
   ]
  },
  {
   "cell_type": "markdown",
   "id": "2b3ef193",
   "metadata": {},
   "source": [
    "### Noise\n",
    "\n",
    "Noise is incorrect, void, null information that is not useful at all, under any circumstances"
   ]
  },
  {
   "cell_type": "code",
   "execution_count": 5,
   "id": "b15a34fc",
   "metadata": {},
   "outputs": [],
   "source": [
    "## code\n",
    "# Binning technique\n"
   ]
  },
  {
   "cell_type": "markdown",
   "id": "2e01dc2b",
   "metadata": {},
   "source": [
    "## Outliers \n",
    "\n",
    "An outlier is not a false value or void in meaning. It is definite and accuratebut when it is linked with the other tuples, it is just not in the same range"
   ]
  },
  {
   "cell_type": "code",
   "execution_count": 7,
   "id": "aba72e04",
   "metadata": {},
   "outputs": [],
   "source": [
    "# code"
   ]
  },
  {
   "cell_type": "markdown",
   "id": "3f189272",
   "metadata": {},
   "source": [
    "### Data inconsistency\n",
    "\n",
    "It refers to a situation of keeping the same data in different formats. It often arise between various duplicates, due to inaccurate data entry or updating some but not all data occurrences or in data representations (e.g., “2010/12/25” and “25/12/2010” for date)"
   ]
  },
  {
   "cell_type": "code",
   "execution_count": 8,
   "id": "b04fe3a4",
   "metadata": {},
   "outputs": [],
   "source": [
    "# code "
   ]
  },
  {
   "cell_type": "markdown",
   "id": "928f703d",
   "metadata": {},
   "source": [
    "## Data Reduction\n",
    "\n",
    "Data reduction obtains a reduced representation of the data set that is much smaller in volume, yet produces the same (or almost the same) analytical results"
   ]
  },
  {
   "cell_type": "markdown",
   "id": "5f818e2e",
   "metadata": {},
   "source": [
    "### Feature Selection \n",
    "Techniques seek to reduce the number of original features by selecting those that are relevant and eliminating irrelevant andredundant ones"
   ]
  },
  {
   "cell_type": "code",
   "execution_count": 10,
   "id": "ab0d88a9",
   "metadata": {},
   "outputs": [],
   "source": [
    "# code"
   ]
  },
  {
   "cell_type": "markdown",
   "id": "9e45a0aa",
   "metadata": {},
   "source": [
    "### Feature Extraction\n",
    "Techniques, new attributes are constructed from thegiven set of attributes"
   ]
  },
  {
   "cell_type": "code",
   "execution_count": 11,
   "id": "b46518be",
   "metadata": {},
   "outputs": [],
   "source": [
    "# code"
   ]
  },
  {
   "cell_type": "markdown",
   "id": "5ebe9763",
   "metadata": {},
   "source": [
    "## Data Transformation\n",
    "\n",
    "### Normalization"
   ]
  },
  {
   "cell_type": "code",
   "execution_count": 12,
   "id": "8dc457a0",
   "metadata": {},
   "outputs": [],
   "source": [
    "# code"
   ]
  },
  {
   "cell_type": "markdown",
   "id": "5208c2f2",
   "metadata": {},
   "source": [
    "### Discretization"
   ]
  },
  {
   "cell_type": "code",
   "execution_count": 13,
   "id": "ec15eb4c",
   "metadata": {},
   "outputs": [],
   "source": [
    "# code "
   ]
  },
  {
   "cell_type": "markdown",
   "id": "eda035df",
   "metadata": {},
   "source": [
    "## Data Balancing\n",
    "\n",
    "**Inbalanced data** refers to a dataset within which one or some of the classes have a much greater number of training examples thanthe others\n",
    "\n",
    "### Sampling\n",
    "\n",
    "Consists of the modification of an imbalanced data set by some mechanisms in order to provide a balanced distribution"
   ]
  },
  {
   "cell_type": "code",
   "execution_count": 15,
   "id": "d7c9fef2",
   "metadata": {},
   "outputs": [],
   "source": [
    "# code"
   ]
  },
  {
   "cell_type": "markdown",
   "id": "3aaad5e4",
   "metadata": {},
   "source": [
    "### In-cost-sensitive\n",
    "\n",
    "Instead of each instance being either correctly or incorrectly classified, each class is given a misclassification cost. Thus, instead of trying to optimize the accuracy, the problem is then to minimize the total misclassificationcost."
   ]
  },
  {
   "cell_type": "code",
   "execution_count": 16,
   "id": "e0911617",
   "metadata": {},
   "outputs": [],
   "source": [
    "# code"
   ]
  }
 ],
 "metadata": {
  "kernelspec": {
   "display_name": "Python 3",
   "language": "python",
   "name": "python3"
  },
  "language_info": {
   "codemirror_mode": {
    "name": "ipython",
    "version": 3
   },
   "file_extension": ".py",
   "mimetype": "text/x-python",
   "name": "python",
   "nbconvert_exporter": "python",
   "pygments_lexer": "ipython3",
   "version": "3.9.5"
  }
 },
 "nbformat": 4,
 "nbformat_minor": 5
}
